{
 "cells": [
  {
   "cell_type": "code",
   "execution_count": 1,
   "metadata": {
    "scrolled": true
   },
   "outputs": [
    {
     "data": {
      "text/plain": [
       "'\\nPyjnu-Py_Example.ipynb\\nAuthors:\\n    -Stephan Meighen-Berger\\nAn example of how to use the python module\\n'"
      ]
     },
     "execution_count": 1,
     "metadata": {},
     "output_type": "execute_result"
    }
   ],
   "source": [
    "\"\"\"\n",
    "Pyjnu-Py_Example.ipynb\n",
    "Authors:\n",
    "    -Stephan Meighen-Berger\n",
    "An example of how to use the python module\n",
    "\"\"\""
   ]
  },
  {
   "cell_type": "code",
   "execution_count": 2,
   "metadata": {},
   "outputs": [],
   "source": [
    "\"\"\"\n",
    "imports external\n",
    "\"\"\"\n",
    "%matplotlib inline\n",
    "import sys\n",
    "sys.path.append(\"C:/Users/steph/Documents/PhD/pyjnu/py_core/\")\n",
    "# sys.path.append(\"/Users/theoglauch/Documents/PhD/Pyjnu-ECP/py_core/\")\n",
    "import logging\n",
    "import matplotlib.pyplot as plt\n",
    "import csv as csv\n",
    "import numpy as np"
   ]
  },
  {
   "cell_type": "code",
   "execution_count": 3,
   "metadata": {},
   "outputs": [],
   "source": [
    "from pyjnu import PyRun\n",
    "from constants import phys_const"
   ]
  },
  {
   "cell_type": "code",
   "execution_count": 4,
   "metadata": {},
   "outputs": [],
   "source": [
    "logging.basicConfig(level=logging.INFO)"
   ]
  },
  {
   "cell_type": "code",
   "execution_count": 5,
   "metadata": {},
   "outputs": [
    {
     "name": "stderr",
     "output_type": "stream",
     "text": [
      "INFO:__builtin__.instance:Initializing the class...\n",
      "INFO:__builtin__.instance:Setting user defined variables..\n",
      "INFO:__builtin__.instance:Finished setting the variables.\n",
      "INFO:__builtin__.instance:Creating the particle instances...\n",
      "INFO:__builtin__.instance:Creating particle 11\n",
      "INFO:__builtin__.instance:Finished particle 11\n",
      "INFO:__builtin__.instance:Creating particle 22\n",
      "INFO:__builtin__.instance:Finished particle 22\n",
      "INFO:__builtin__.instance:Creating particle 22_local\n",
      "INFO:__builtin__.instance:Finished particle 22_local\n",
      "INFO:__builtin__.instance:Finished particle creation\n",
      "INFO:__builtin__.instance:Loading the rates...\n",
      "INFO:__builtin__.instance:Finished loading\n",
      "INFO:__builtin__.instance:Finished initialization\n"
     ]
    }
   ],
   "source": [
    "PYJNU = PyRun(\n",
    "    Bfield=0.088,\n",
    "    delta=230.,\n",
    "    R=0.19e15,\n",
    "    d=540.,\n",
    "    z=0.116,\n",
    ")"
   ]
  },
  {
   "cell_type": "code",
   "execution_count": 6,
   "metadata": {
    "scrolled": true
   },
   "outputs": [
    {
     "name": "stderr",
     "output_type": "stream",
     "text": [
      "INFO:__builtin__.instance:Starting steady state solving...\n",
      "INFO:__builtin__.instance:Setting the geometry...\n",
      "INFO:__builtin__.instance:Creating the geometry object...\n",
      "INFO:__builtin__.instance:Finished creating the geometry object...\n",
      "INFO:__builtin__.instance:Geometry set\n",
      "INFO:__builtin__.instance:The initial electron spectrum...\n",
      "INFO:__builtin__.instance:Set the initial spectrum\n",
      "INFO:__builtin__.instance:Synchrotron...\n",
      "INFO:__builtin__.instance:Inverse Compton...\n",
      "INFO:__builtin__.instance:Case B\n",
      "INFO:__builtin__.instance:Storing results...\n",
      "INFO:__builtin__.instance:Finished steady state solving...\n",
      "INFO:__builtin__.instance:Results stored in particle fluxes...\n"
     ]
    }
   ],
   "source": [
    "PYJNU.solve_steady()"
   ]
  },
  {
   "cell_type": "code",
   "execution_count": 7,
   "metadata": {},
   "outputs": [],
   "source": [
    "e_grid = PYJNU.particles['22'].e_grid\n",
    "flux_0 = PYJNU.particles['22'].flux['0']\n",
    "flux_2 = PYJNU.particles['22'].flux['2']"
   ]
  },
  {
   "cell_type": "code",
   "execution_count": 8,
   "metadata": {},
   "outputs": [
    {
     "name": "stdout",
     "output_type": "stream",
     "text": [
      "1.2711683528480495e-23\n",
      "1.1012887651689784e-49\n"
     ]
    }
   ],
   "source": [
    "print np.sum(flux_0)\n",
    "print np.sum(flux_2)"
   ]
  },
  {
   "cell_type": "code",
   "execution_count": 9,
   "metadata": {},
   "outputs": [
    {
     "data": {
      "image/png": "[encoded data removed]",
      "text/plain": [
       "<Figure size 576x432 with 1 Axes>"
      ]
     },
     "metadata": {},
     "output_type": "display_data"
    }
   ],
   "source": [
    "figure  = plt.figure(figsize=(8, 6))\n",
    "flux1 = flux_0 * e_grid\n",
    "flux2 = flux_2 * e_grid * phys_const['mec2'] / phys_const['h']\n",
    "total = flux1 + flux2\n",
    "plt.plot(e_grid,\n",
    "         flux1,\n",
    "         ls='--', label=r'$\\gamma^0$')\n",
    "plt.plot(e_grid,\n",
    "         flux2,\n",
    "         ls='-.', label=r'$\\gamma^2$')\n",
    "plt.plot(e_grid,\n",
    "         total,\n",
    "         ls='-', label=r'$\\gamma_{tot}$',\n",
    "         color='k')\n",
    "plt.legend(loc='lower right')\n",
    "plt.grid(True)\n",
    "plt.title('Photon Flux')\n",
    "plt.xlabel('Energy')\n",
    "plt.ylabel('Flux x E')\n",
    "plt.xlim(1e5, 1e30)\n",
    "plt.ylim(1e-21, 1e-8)\n",
    "plt.loglog()\n",
    "plt.show()"
   ]
  },
  {
   "cell_type": "code",
   "execution_count": 10,
   "metadata": {},
   "outputs": [
    {
     "name": "stdout",
     "output_type": "stream",
     "text": [
      "1.2711683528480495e-23\n",
      "1.1012887651689784e-49\n"
     ]
    }
   ],
   "source": [
    "print np.sum(flux_0)\n",
    "print np.sum(flux_2)"
   ]
  }
 ],
 "metadata": {
  "kernelspec": {
   "display_name": "Python 2",
   "language": "python",
   "name": "python2"
  },
  "language_info": {
   "codemirror_mode": {
    "name": "ipython",
    "version": 2
   },
   "file_extension": ".py",
   "mimetype": "text/x-python",
   "name": "python",
   "nbconvert_exporter": "python",
   "pygments_lexer": "ipython2",
   "version": "2.7.15"
  }
 },
 "nbformat": 4,
 "nbformat_minor": 2
}

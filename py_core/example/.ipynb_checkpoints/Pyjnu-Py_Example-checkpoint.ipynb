{
 "cells": [
  {
   "cell_type": "code",
   "execution_count": 1,
   "metadata": {
    "scrolled": true
   },
   "outputs": [
    {
     "data": {
      "text/plain": [
       "'\\nPyjnu-Py_Example.ipynb\\nAuthors:\\n    -Stephan Meighen-Berger\\nAn example of how to use the python module\\n'"
      ]
     },
     "execution_count": 1,
     "metadata": {},
     "output_type": "execute_result"
    }
   ],
   "source": [
    "\"\"\"\n",
    "Pyjnu-Py_Example.ipynb\n",
    "Authors:\n",
    "    -Stephan Meighen-Berger\n",
    "An example of how to use the python module\n",
    "\"\"\""
   ]
  },
  {
   "cell_type": "code",
   "execution_count": 2,
   "metadata": {
    "collapsed": true
   },
   "outputs": [],
   "source": [
    "\"\"\"\n",
    "imports external\n",
    "\"\"\"\n",
    "%matplotlib inline\n",
    "import sys\n",
    "#sys.path.append(\"C:/Users/steph/Documents/PhD/Pyjnu-ECP/py_core/\")\n",
    "sys.path.append(\"/Users/theoglauch/Documents/PhD/Pyjnu-ECP/py_core/\")\n",
    "import logging\n",
    "import matplotlib.pyplot as plt\n",
    "import csv as csv\n",
    "import numpy as np"
   ]
  },
  {
   "cell_type": "code",
   "execution_count": 3,
   "metadata": {},
   "outputs": [
    {
     "ename": "SyntaxError",
     "evalue": "Non-ASCII character '\\xc3' in file /Users/theoglauch/Documents/PhD/Pyjnu-ECP/py_core/pyjnu.py on line 338, but no encoding declared; see http://python.org/dev/peps/pep-0263/ for details (pyjnu.py, line 338)",
     "output_type": "error",
     "traceback": [
      "\u001b[0;36m  File \u001b[0;32m\"/Users/theoglauch/Documents/PhD/Pyjnu-ECP/py_core/pyjnu.py\"\u001b[0;36m, line \u001b[0;32m338\u001b[0m\n\u001b[0;31m    ## TODO: Mask wird benötigt??? oder immer 1\u001b[0m\n\u001b[0m                                               ^\u001b[0m\n\u001b[0;31mSyntaxError\u001b[0m\u001b[0;31m:\u001b[0m Non-ASCII character '\\xc3' in file /Users/theoglauch/Documents/PhD/Pyjnu-ECP/py_core/pyjnu.py on line 338, but no encoding declared; see http://python.org/dev/peps/pep-0263/ for details\n"
     ]
    }
   ],
   "source": [
    "from pyjnu import PyRun\n",
    "from constants import phys_const"
   ]
  },
  {
   "cell_type": "code",
   "execution_count": null,
   "metadata": {
    "collapsed": true
   },
   "outputs": [],
   "source": [
    "logging.basicConfig(level=logging.INFO)"
   ]
  },
  {
   "cell_type": "code",
   "execution_count": null,
   "metadata": {},
   "outputs": [],
   "source": [
    "PYJNU = PyRun(\n",
    "    Bfield=0.088,\n",
    "    delta=230.,\n",
    "    R=0.19e15,\n",
    "    d=540.,\n",
    "    z=0.116,\n",
    ")"
   ]
  },
  {
   "cell_type": "code",
   "execution_count": 6,
   "metadata": {
    "scrolled": true
   },
   "outputs": [
    {
     "name": "stderr",
     "output_type": "stream",
     "text": [
      "INFO:__builtin__.instance:Starting steady state solving...\n",
      "INFO:__builtin__.instance:Setting the geometry...\n",
      "INFO:__builtin__.instance:Creating the geometry object...\n",
      "INFO:__builtin__.instance:Finished creating the geometry object...\n",
      "INFO:__builtin__.instance:Geometry set\n",
      "INFO:__builtin__.instance:The initial electron spectrum...\n",
      "INFO:__builtin__.instance:Set the initial spectrum\n",
      "INFO:__builtin__.instance:Synchrotron...\n",
      "INFO:__builtin__.instance:Inverse Compton...\n",
      "INFO:__builtin__.instance:Case B\n",
      "INFO:__builtin__.instance:Storing results...\n",
      "INFO:__builtin__.instance:Finished steady state solving...\n",
      "INFO:__builtin__.instance:Results stored in particle fluxes...\n"
     ]
    }
   ],
   "source": [
    "PYJNU.solve_steady()"
   ]
  },
  {
   "cell_type": "code",
   "execution_count": 7,
   "metadata": {
    "collapsed": true
   },
   "outputs": [],
   "source": [
    "e_grid = PYJNU.particles['22'].e_grid\n",
    "flux_0 = PYJNU.particles['22'].flux['0']\n",
    "flux_2 = PYJNU.particles['22'].flux['2']"
   ]
  },
  {
   "cell_type": "code",
   "execution_count": 8,
   "metadata": {},
   "outputs": [
    {
     "name": "stdout",
     "output_type": "stream",
     "text": [
      "1.27116835277e-23\n",
      "1.10128876541e-49\n"
     ]
    }
   ],
   "source": [
    "print np.sum(flux_0)\n",
    "print np.sum(flux_2)"
   ]
  },
  {
   "cell_type": "code",
   "execution_count": 9,
   "metadata": {},
   "outputs": [
    {
     "data": {
      "image/png": "[encoded data removed]",
      "text/plain": [
       "<Figure size 576x432 with 1 Axes>"
      ]
     },
     "metadata": {},
     "output_type": "display_data"
    }
   ],
   "source": [
    "figure  = plt.figure(figsize=(8, 6))\n",
    "flux1 = flux_0 * e_grid\n",
    "flux2 = flux_2 * e_grid * phys_const['mec2'] / phys_const['h']\n",
    "total = flux1 + flux2\n",
    "plt.plot(e_grid,\n",
    "         flux1,\n",
    "         ls='--', label=r'$\\gamma^0$')\n",
    "plt.plot(e_grid,\n",
    "         flux2,\n",
    "         ls='-.', label=r'$\\gamma^2$')\n",
    "plt.plot(e_grid,\n",
    "         total,\n",
    "         ls='-', label=r'$\\gamma_{tot}$',\n",
    "         color='k')\n",
    "plt.legend(loc='lower right')\n",
    "plt.grid(True)\n",
    "plt.title('Photon Flux')\n",
    "plt.xlabel('Energy')\n",
    "plt.ylabel('Flux x E')\n",
    "plt.xlim(1e5, 1e30)\n",
    "plt.ylim(1e-21, 1e-8)\n",
    "plt.loglog()\n",
    "plt.show()"
   ]
  },
  {
   "cell_type": "code",
   "execution_count": 12,
   "metadata": {},
   "outputs": [
    {
     "name": "stdout",
     "output_type": "stream",
     "text": [
      "1.27116835277e-23\n",
      "1.10128876541e-49\n"
     ]
    }
   ],
   "source": [
    "print np.sum(flux_0)\n",
    "print np.sum(flux_2)"
   ]
  },
  {
   "cell_type": "code",
   "execution_count": 7,
   "metadata": {
    "collapsed": true
   },
   "outputs": [],
   "source": [
    "a = np.array([1,2,3,4,5,6])"
   ]
  },
  {
   "cell_type": "code",
   "execution_count": 12,
   "metadata": {
    "collapsed": true
   },
   "outputs": [],
   "source": [
    "a[1:3]=[1,2]"
   ]
  },
  {
   "cell_type": "code",
   "execution_count": 13,
   "metadata": {},
   "outputs": [
    {
     "name": "stdout",
     "output_type": "stream",
     "text": [
      "[1 1 2 4 5 6]\n"
     ]
    }
   ],
   "source": [
    "print a"
   ]
  },
  {
   "cell_type": "code",
   "execution_count": 15,
   "metadata": {},
   "outputs": [
    {
     "data": {
      "text/plain": [
       "array([ 0.,  0.,  0.,  0.,  0.,  0.,  1.,  1.,  1.,  1.])"
      ]
     },
     "execution_count": 15,
     "metadata": {},
     "output_type": "execute_result"
    }
   ],
   "source": [
    "np.heaviside(range(10-15, 20-15), 0)"
   ]
  },
  {
   "cell_type": "code",
   "execution_count": null,
   "metadata": {
    "collapsed": true
   },
   "outputs": [],
   "source": []
  }
 ],
 "metadata": {
  "kernelspec": {
   "display_name": "Python 2",
   "language": "python",
   "name": "python2"
  },
  "language_info": {
   "codemirror_mode": {
    "name": "ipython",
    "version": 2
   },
   "file_extension": ".py",
   "mimetype": "text/x-python",
   "name": "python",
   "nbconvert_exporter": "python",
   "pygments_lexer": "ipython2",
   "version": "2.7.13"
  }
 },
 "nbformat": 4,
 "nbformat_minor": 2
}

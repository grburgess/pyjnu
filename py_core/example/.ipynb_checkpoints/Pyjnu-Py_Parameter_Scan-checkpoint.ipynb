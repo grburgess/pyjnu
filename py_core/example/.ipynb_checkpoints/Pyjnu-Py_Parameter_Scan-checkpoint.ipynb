{
 "cells": [
  {
   "cell_type": "code",
   "execution_count": 1,
   "metadata": {},
   "outputs": [
    {
     "data": {
      "text/plain": [
       "'\\nPyjnu-Py_Parameter_Scan.ipynb\\nAuthors:\\n    -Stephan Meighen-Berger\\nUsed to show how a parameter scan could work with this module\\n'"
      ]
     },
     "execution_count": 1,
     "metadata": {},
     "output_type": "execute_result"
    }
   ],
   "source": [
    "\"\"\"\n",
    "Pyjnu-Py_Parameter_Scan.ipynb\n",
    "Authors:\n",
    "    -Stephan Meighen-Berger\n",
    "Used to show how a parameter scan could work with this module\n",
    "\"\"\""
   ]
  },
  {
   "cell_type": "code",
   "execution_count": 2,
   "metadata": {},
   "outputs": [],
   "source": [
    "\"\"\"\n",
    "imports external\n",
    "\"\"\"\n",
    "import sys\n",
    "#sys.path.append(\"C:/Users/steph/Documents/PhD/Pyjnu-ECP/py_core/\")\n",
    "sys.path.append(\"C:/Users/steph/OneDrive/University TUM/PhD/Repositories/Pyjnu-ECP/py_core/\")\n",
    "import logging\n",
    "import matplotlib.pyplot as plt\n",
    "import csv as csv\n",
    "import numpy as np"
   ]
  },
  {
   "cell_type": "code",
   "execution_count": 3,
   "metadata": {},
   "outputs": [],
   "source": [
    "from pyjnu import PyRun \n",
    "from constants import phys_const"
   ]
  },
  {
   "cell_type": "code",
   "execution_count": 4,
   "metadata": {},
   "outputs": [],
   "source": [
    "logging.basicConfig(level=logging.DEBUG)"
   ]
  },
  {
   "cell_type": "code",
   "execution_count": 5,
   "metadata": {},
   "outputs": [
    {
     "name": "stderr",
     "output_type": "stream",
     "text": [
      "INFO:__builtin__.instance:Initializing the class...\n",
      "INFO:__builtin__.instance:Setting user defined variables..\n",
      "INFO:__builtin__.instance:Finished setting the variables.\n",
      "INFO:__builtin__.instance:Creating the particle instances...\n",
      "INFO:__builtin__.instance:Creating particle 11\n",
      "INFO:__builtin__.instance:Finished particle 11\n",
      "INFO:__builtin__.instance:Creating particle 22\n",
      "INFO:__builtin__.instance:Finished particle 22\n",
      "INFO:__builtin__.instance:Creating particle 22_local\n",
      "INFO:__builtin__.instance:Finished particle 22_local\n",
      "INFO:__builtin__.instance:Finished particle creation\n",
      "INFO:__builtin__.instance:Loading the rates...\n",
      "INFO:__builtin__.instance:Finished loading\n",
      "INFO:__builtin__.instance:Finished initialization\n"
     ]
    }
   ],
   "source": [
    "PYJNU = PyRun(\n",
    "    Bfield=0.088,\n",
    "    delta=230.,\n",
    "    R=0.19e15,\n",
    "    d=540.,\n",
    "    z=0.116,\n",
    "    node_number=None\n",
    ")"
   ]
  },
  {
   "cell_type": "code",
   "execution_count": 6,
   "metadata": {},
   "outputs": [
    {
     "name": "stderr",
     "output_type": "stream",
     "text": [
      "INFO:__builtin__.instance:Starting steady state solving...\n",
      "INFO:__builtin__.instance:Setting the geometry...\n",
      "INFO:__builtin__.instance:Creating the geometry object...\n",
      "INFO:__builtin__.instance:Finished creating the geometry object...\n",
      "INFO:__builtin__.instance:Geometry set\n",
      "INFO:__builtin__.instance:The initial electron spectrum...\n",
      "INFO:__builtin__.instance:Set the initial spectrum\n",
      "INFO:__builtin__.instance:Synchrotron...\n",
      "INFO:__builtin__.instance:Inverse Compton...\n",
      "INFO:__builtin__.instance:Case B\n",
      "INFO:__builtin__.instance:Storing results...\n",
      "INFO:__builtin__.instance:Finished steady state solving...\n",
      "INFO:__builtin__.instance:Results stored in particle fluxes...\n"
     ]
    }
   ],
   "source": [
    "# Multiple runs\n",
    "deltas = [230.]\n",
    "e_grid = {}\n",
    "flux_0 = {}\n",
    "flux_2 = {}\n",
    "for delta in deltas:\n",
    "    PYJNU.delta = delta\n",
    "    PYJNU.solve_steady()\n",
    "    e_grid[delta] = PYJNU.particles['22'].e_grid\n",
    "    flux_0[delta] = PYJNU.particles['22'].flux['0']\n",
    "    flux_2[delta] = PYJNU.particles['22'].flux['2']"
   ]
  },
  {
   "cell_type": "code",
   "execution_count": 7,
   "metadata": {},
   "outputs": [
    {
     "data": {
      "text/plain": [
       "[]"
      ]
     },
     "execution_count": 7,
     "metadata": {},
     "output_type": "execute_result"
    },
    {
     "name": "stderr",
     "output_type": "stream",
     "text": [
      "DEBUG:matplotlib.font_manager:findfont: Matching :family=sans-serif:style=normal:variant=normal:weight=normal:stretch=normal:size=10.0 to DejaVu Sans (u'C:\\\\ProgramData\\\\Anaconda2\\\\lib\\\\site-packages\\\\matplotlib\\\\mpl-data\\\\fonts\\\\ttf\\\\DejaVuSans.ttf') with score of 0.050000\n",
      "DEBUG:matplotlib.font_manager:findfont: Matching :family=STIXGeneral:style=normal:variant=normal:weight=normal:stretch=normal:size=10.0 to STIXGeneral (u'C:\\\\ProgramData\\\\Anaconda2\\\\lib\\\\site-packages\\\\matplotlib\\\\mpl-data\\\\fonts\\\\ttf\\\\STIXGeneral.ttf') with score of 0.050000\n",
      "DEBUG:matplotlib.font_manager:findfont: Matching :family=STIXSizeOneSym:style=normal:variant=normal:weight=normal:stretch=normal:size=10.0 to STIXSizeOneSym (u'C:\\\\ProgramData\\\\Anaconda2\\\\lib\\\\site-packages\\\\matplotlib\\\\mpl-data\\\\fonts\\\\ttf\\\\STIXSizOneSymReg.ttf') with score of 0.050000\n",
      "DEBUG:matplotlib.font_manager:findfont: Matching :family=STIXGeneral:style=normal:variant=normal:weight=bold:stretch=normal:size=10.0 to STIXGeneral (u'C:\\\\ProgramData\\\\Anaconda2\\\\lib\\\\site-packages\\\\matplotlib\\\\mpl-data\\\\fonts\\\\ttf\\\\STIXGeneralBol.ttf') with score of 0.000000\n",
      "DEBUG:matplotlib.font_manager:findfont: Matching :family=STIXSizeThreeSym:style=normal:variant=normal:weight=normal:stretch=normal:size=10.0 to STIXSizeThreeSym (u'C:\\\\ProgramData\\\\Anaconda2\\\\lib\\\\site-packages\\\\matplotlib\\\\mpl-data\\\\fonts\\\\ttf\\\\STIXSizThreeSymReg.ttf') with score of 0.050000\n",
      "DEBUG:matplotlib.font_manager:findfont: Matching :family=STIXSizeFourSym:style=normal:variant=normal:weight=normal:stretch=normal:size=10.0 to STIXSizeFourSym (u'C:\\\\ProgramData\\\\Anaconda2\\\\lib\\\\site-packages\\\\matplotlib\\\\mpl-data\\\\fonts\\\\ttf\\\\STIXSizFourSymReg.ttf') with score of 0.050000\n",
      "DEBUG:matplotlib.font_manager:findfont: Matching :family=STIXSizeFiveSym:style=normal:variant=normal:weight=normal:stretch=normal:size=10.0 to STIXSizeFiveSym (u'C:\\\\ProgramData\\\\Anaconda2\\\\lib\\\\site-packages\\\\matplotlib\\\\mpl-data\\\\fonts\\\\ttf\\\\STIXSizFiveSymReg.ttf') with score of 0.050000\n",
      "DEBUG:matplotlib.font_manager:findfont: Matching :family=STIXSizeTwoSym:style=normal:variant=normal:weight=normal:stretch=normal:size=10.0 to STIXSizeTwoSym (u'C:\\\\ProgramData\\\\Anaconda2\\\\lib\\\\site-packages\\\\matplotlib\\\\mpl-data\\\\fonts\\\\ttf\\\\STIXSizTwoSymReg.ttf') with score of 0.050000\n",
      "DEBUG:matplotlib.font_manager:findfont: Matching :family=STIXGeneral:style=italic:variant=normal:weight=normal:stretch=normal:size=10.0 to STIXGeneral (u'C:\\\\ProgramData\\\\Anaconda2\\\\lib\\\\site-packages\\\\matplotlib\\\\mpl-data\\\\fonts\\\\ttf\\\\STIXGeneralItalic.ttf') with score of 0.050000\n",
      "DEBUG:matplotlib.font_manager:findfont: Matching :family=STIXNonUnicode:style=italic:variant=normal:weight=normal:stretch=normal:size=10.0 to STIXNonUnicode (u'C:\\\\ProgramData\\\\Anaconda2\\\\lib\\\\site-packages\\\\matplotlib\\\\mpl-data\\\\fonts\\\\ttf\\\\STIXNonUniIta.ttf') with score of 0.050000\n",
      "DEBUG:matplotlib.font_manager:findfont: Matching :family=STIXNonUnicode:style=normal:variant=normal:weight=normal:stretch=normal:size=10.0 to STIXNonUnicode (u'C:\\\\ProgramData\\\\Anaconda2\\\\lib\\\\site-packages\\\\matplotlib\\\\mpl-data\\\\fonts\\\\ttf\\\\STIXNonUni.ttf') with score of 0.050000\n",
      "DEBUG:matplotlib.font_manager:findfont: Matching :family=STIXNonUnicode:style=normal:variant=normal:weight=bold:stretch=normal:size=10.0 to STIXNonUnicode (u'C:\\\\ProgramData\\\\Anaconda2\\\\lib\\\\site-packages\\\\matplotlib\\\\mpl-data\\\\fonts\\\\ttf\\\\STIXNonUniBol.ttf') with score of 0.000000\n",
      "DEBUG:matplotlib.font_manager:findfont: Matching :family=cmb10:style=normal:variant=normal:weight=normal:stretch=normal:size=10.0 to cmb10 (u'C:\\\\ProgramData\\\\Anaconda2\\\\lib\\\\site-packages\\\\matplotlib\\\\mpl-data\\\\fonts\\\\ttf\\\\cmb10.ttf') with score of 0.050000\n",
      "DEBUG:matplotlib.font_manager:findfont: Matching :family=cmtt10:style=normal:variant=normal:weight=normal:stretch=normal:size=10.0 to cmtt10 (u'C:\\\\ProgramData\\\\Anaconda2\\\\lib\\\\site-packages\\\\matplotlib\\\\mpl-data\\\\fonts\\\\ttf\\\\cmtt10.ttf') with score of 0.050000\n",
      "DEBUG:matplotlib.font_manager:findfont: Matching :family=cmmi10:style=normal:variant=normal:weight=normal:stretch=normal:size=10.0 to cmmi10 (u'C:\\\\ProgramData\\\\Anaconda2\\\\lib\\\\site-packages\\\\matplotlib\\\\mpl-data\\\\fonts\\\\ttf\\\\cmmi10.ttf') with score of 0.050000\n",
      "DEBUG:matplotlib.font_manager:findfont: Matching :family=cmex10:style=normal:variant=normal:weight=normal:stretch=normal:size=10.0 to cmex10 (u'C:\\\\ProgramData\\\\Anaconda2\\\\lib\\\\site-packages\\\\matplotlib\\\\mpl-data\\\\fonts\\\\ttf\\\\cmex10.ttf') with score of 0.050000\n",
      "DEBUG:matplotlib.font_manager:findfont: Matching :family=cmsy10:style=normal:variant=normal:weight=normal:stretch=normal:size=10.0 to cmsy10 (u'C:\\\\ProgramData\\\\Anaconda2\\\\lib\\\\site-packages\\\\matplotlib\\\\mpl-data\\\\fonts\\\\ttf\\\\cmsy10.ttf') with score of 0.050000\n",
      "DEBUG:matplotlib.font_manager:findfont: Matching :family=cmr10:style=normal:variant=normal:weight=normal:stretch=normal:size=10.0 to cmr10 (u'C:\\\\ProgramData\\\\Anaconda2\\\\lib\\\\site-packages\\\\matplotlib\\\\mpl-data\\\\fonts\\\\ttf\\\\cmr10.ttf') with score of 0.050000\n",
      "DEBUG:matplotlib.font_manager:findfont: Matching :family=cmss10:style=normal:variant=normal:weight=normal:stretch=normal:size=10.0 to cmss10 (u'C:\\\\ProgramData\\\\Anaconda2\\\\lib\\\\site-packages\\\\matplotlib\\\\mpl-data\\\\fonts\\\\ttf\\\\cmss10.ttf') with score of 0.050000\n",
      "DEBUG:matplotlib.font_manager:findfont: Matching :family=DejaVu Sans:style=normal:variant=normal:weight=normal:stretch=normal:size=10.0 to DejaVu Sans (u'C:\\\\ProgramData\\\\Anaconda2\\\\lib\\\\site-packages\\\\matplotlib\\\\mpl-data\\\\fonts\\\\ttf\\\\DejaVuSans.ttf') with score of 0.050000\n",
      "DEBUG:matplotlib.font_manager:findfont: Matching :family=DejaVu Sans:style=normal:variant=normal:weight=bold:stretch=normal:size=10.0 to DejaVu Sans (u'C:\\\\ProgramData\\\\Anaconda2\\\\lib\\\\site-packages\\\\matplotlib\\\\mpl-data\\\\fonts\\\\ttf\\\\DejaVuSans-Bold.ttf') with score of 0.000000\n",
      "DEBUG:matplotlib.font_manager:findfont: Matching :family=DejaVu Sans Mono:style=normal:variant=normal:weight=normal:stretch=normal:size=10.0 to DejaVu Sans Mono (u'C:\\\\ProgramData\\\\Anaconda2\\\\lib\\\\site-packages\\\\matplotlib\\\\mpl-data\\\\fonts\\\\ttf\\\\DejaVuSansMono.ttf') with score of 0.050000\n",
      "DEBUG:matplotlib.font_manager:findfont: Matching :family=DejaVu Sans:style=italic:variant=normal:weight=normal:stretch=normal:size=10.0 to DejaVu Sans (u'C:\\\\ProgramData\\\\Anaconda2\\\\lib\\\\site-packages\\\\matplotlib\\\\mpl-data\\\\fonts\\\\ttf\\\\DejaVuSans-Oblique.ttf') with score of 0.150000\n",
      "DEBUG:matplotlib.font_manager:findfont: Matching :family=DejaVu Sans Display:style=normal:variant=normal:weight=normal:stretch=normal:size=10.0 to DejaVu Sans Display (u'C:\\\\ProgramData\\\\Anaconda2\\\\lib\\\\site-packages\\\\matplotlib\\\\mpl-data\\\\fonts\\\\ttf\\\\DejaVuSansDisplay.ttf') with score of 0.050000\n",
      "DEBUG:matplotlib.font_manager:findfont: Matching :family=sans-serif:style=normal:variant=normal:weight=normal:stretch=normal:size=12.0 to DejaVu Sans (u'C:\\\\ProgramData\\\\Anaconda2\\\\lib\\\\site-packages\\\\matplotlib\\\\mpl-data\\\\fonts\\\\ttf\\\\DejaVuSans.ttf') with score of 0.050000\n"
     ]
    },
    {
     "data": {
      "image/png": "[encoded data removed]",
      "text/plain": [
       "<Figure size 576x432 with 1 Axes>"
      ]
     },
     "metadata": {},
     "output_type": "display_data"
    }
   ],
   "source": [
    "figure  = plt.figure(figsize=(8, 6))\n",
    "for delta in deltas:\n",
    "    flux1 = flux_0[delta] * e_grid[delta]\n",
    "    flux2 = flux_2[delta] * e_grid[delta] * phys_const['mec2'] / phys_const['h']\n",
    "    total = flux1 + flux2\n",
    "    plt.plot(e_grid[delta],\n",
    "             flux1,\n",
    "             ls='--', label=r'$\\gamma^0$ ' + str(delta))\n",
    "    plt.plot(e_grid[delta],\n",
    "             flux2,\n",
    "             ls='-.', label=r'$\\gamma^2$ ' + str(delta))\n",
    "    plt.plot(e_grid[delta],\n",
    "             total,\n",
    "             ls='-.', label=r'$\\gamma_{tot}$ ' + str(delta))\n",
    "plt.legend(loc='lower right')\n",
    "plt.grid(True)\n",
    "plt.title('Delta variation')\n",
    "plt.xlabel('Energy')\n",
    "plt.ylabel('Flux x E')\n",
    "plt.loglog()"
   ]
  },
  {
   "cell_type": "code",
   "execution_count": null,
   "metadata": {},
   "outputs": [],
   "source": []
  }
 ],
 "metadata": {
  "kernelspec": {
   "display_name": "Python 2",
   "language": "python",
   "name": "python2"
  },
  "language_info": {
   "codemirror_mode": {
    "name": "ipython",
    "version": 2
   },
   "file_extension": ".py",
   "mimetype": "text/x-python",
   "name": "python",
   "nbconvert_exporter": "python",
   "pygments_lexer": "ipython2",
   "version": "2.7.15"
  }
 },
 "nbformat": 4,
 "nbformat_minor": 2
}

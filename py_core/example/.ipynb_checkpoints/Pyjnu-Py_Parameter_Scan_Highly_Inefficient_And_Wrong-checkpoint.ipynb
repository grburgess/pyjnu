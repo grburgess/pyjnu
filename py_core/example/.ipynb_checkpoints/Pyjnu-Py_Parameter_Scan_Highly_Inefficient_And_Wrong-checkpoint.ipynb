{
 "cells": [
  {
   "cell_type": "code",
   "execution_count": 1,
   "metadata": {},
   "outputs": [
    {
     "data": {
      "text/plain": [
       "'\\nPyjnu-Py_Parameter_Scan_Highly_Inefficient_And_Wrong.ipynb\\nAuthors:\\n    -Stephan Meighen-Berger\\nUsed to show how a parameter scan could work with this module\\n'"
      ]
     },
     "execution_count": 1,
     "metadata": {},
     "output_type": "execute_result"
    }
   ],
   "source": [
    "\"\"\"\n",
    "Pyjnu-Py_Parameter_Scan_Highly_Inefficient_And_Wrong.ipynb\n",
    "Authors:\n",
    "    -Stephan Meighen-Berger\n",
    "Used to show how a parameter scan could work with this module\n",
    "\"\"\""
   ]
  },
  {
   "cell_type": "code",
   "execution_count": 2,
   "metadata": {},
   "outputs": [],
   "source": [
    "\"\"\"\n",
    "imports external\n",
    "\"\"\"\n",
    "import sys\n",
    "sys.path.append(\"C:/Users/steph/Documents/PhD/pyjnu/py_core/\")\n",
    "#sys.path.append(\"C:/Users/steph/OneDrive/University TUM/PhD/Repositories/Pyjnu-ECP/py_core/\")\n",
    "import logging\n",
    "import matplotlib.pyplot as plt\n",
    "import matplotlib.colors as cls\n",
    "from scipy.spatial import ConvexHull\n",
    "import matplotlib.cm as cm\n",
    "from mpl_toolkits.mplot3d import Axes3D\n",
    "import csv as csv\n",
    "import numpy as np\n",
    "from tqdm import tqdm\n",
    "from scipy.interpolate import UnivariateSpline"
   ]
  },
  {
   "cell_type": "code",
   "execution_count": 3,
   "metadata": {},
   "outputs": [],
   "source": [
    "from pyjnu import PyRun \n",
    "from constants import phys_const"
   ]
  },
  {
   "cell_type": "code",
   "execution_count": 4,
   "metadata": {},
   "outputs": [],
   "source": [
    "logging.basicConfig(level=logging.WARNING)"
   ]
  },
  {
   "cell_type": "code",
   "execution_count": 5,
   "metadata": {},
   "outputs": [],
   "source": [
    "# Need to load data points here\n",
    "data1 = []\n",
    "with open('../measurements/txs1.csv', 'rb') as f:\n",
    "    reader = csv.reader(f)\n",
    "    for row in reader:\n",
    "        data1.append([row[2], row[1]])\n",
    "data1.pop(0)\n",
    "data1 = [[float(point[0]), float(point[1].split(' ')[0])] for point in data1]\n",
    "data2 = []\n",
    "with open('../measurements/txs2.csv', 'rb') as f:\n",
    "    reader = csv.reader(f)\n",
    "    for row in reader:\n",
    "        data2.append([row[6], row[5]])\n",
    "data2.pop(0)\n",
    "data2 = [[float(point[0]), float(point[1].split('+')[0])] for point in data2]\n",
    "data3 = []\n",
    "with open('../measurements/txs3.csv', 'rb') as f:\n",
    "    reader = csv.reader(f)\n",
    "    for row in reader:\n",
    "        data3.append([row[6], row[5]])\n",
    "data3.pop(0)\n",
    "data3 = [[float(point[0]), float(point[1].split('+')[0])] for point in data3]\n",
    "data = data1 + data2 + data3\n",
    "data = np.array(data)"
   ]
  },
  {
   "cell_type": "code",
   "execution_count": 6,
   "metadata": {},
   "outputs": [],
   "source": [
    "def fixedRadius(Bfields, deltas, R, d, z, critical):\n",
    "    total = {}\n",
    "    for B in tqdm(Bfields):\n",
    "        for delta in deltas:\n",
    "            PYJNU = PyRun()\n",
    "            PYJNU.solve_steady(B=B, delta=delta, R=R, d=d, z=z)\n",
    "            total_spline = UnivariateSpline(PYJNU.particles['22'].e_grid, \n",
    "                                            PYJNU.particles['22'].flux['0'] * PYJNU.particles['22'].e_grid +\n",
    "                                            PYJNU.particles['22'].flux['2'] * PYJNU.particles['22'].e_grid,\n",
    "                                            k=1,\n",
    "                                            s=0,\n",
    "                                            ext=1)\n",
    "            total_diff = [abs(point[1] - total_spline(point[0])) / point[1] for point in data]\n",
    "            maxDiff = max(total_diff)\n",
    "            if maxDiff > critical:\n",
    "                total[(B, delta)] = [PYJNU.particles['22'].e_grid ,total_spline, False, total_diff]\n",
    "            else:\n",
    "                total[(B, delta)] = [PYJNU.particles['22'].e_grid ,total_spline, True, total_diff]\n",
    "    points = np.array([key for key in total.keys() if total[key][2]])\n",
    "    if len(points) > 2:\n",
    "        hull = ConvexHull(points)\n",
    "    else:\n",
    "        hull = None\n",
    "    return total, hull, points"
   ]
  },
  {
   "cell_type": "code",
   "execution_count": 7,
   "metadata": {},
   "outputs": [],
   "source": [
    "def differentRadii(Bfields, deltas, radii, d, z, critical):\n",
    "    results ={}\n",
    "    for R in radii:\n",
    "        total, hull, points = fixedRadius(Bfields, deltas, R, d, z, critical)\n",
    "        results[R] = [total, hull, points]\n",
    "    return results"
   ]
  },
  {
   "cell_type": "code",
   "execution_count": null,
   "metadata": {},
   "outputs": [
    {
     "name": "stderr",
     "output_type": "stream",
     "text": [
      "  1%|▍                                                                    | 568/99999 [16:13:00<2838:48:16, 102.78s/it]"
     ]
    }
   ],
   "source": [
    "Bfields = np.arange(1e-3, 1e2, 1e-3)\n",
    "deltas = np.arange(100., 1000., 10.)\n",
    "radii = np.arange(1e13, 1e16, 1e13)\n",
    "# Should also be varied slightly\n",
    "d = 540.\n",
    "z = 0.116\n",
    "criticaldeviation = 0.8\n",
    "results = differentRadii(Bfields, deltas, radii, d, z, criticaldeviation)"
   ]
  },
  {
   "cell_type": "code",
   "execution_count": null,
   "metadata": {},
   "outputs": [],
   "source": [
    "figure  = plt.figure(figsize=(8, 6))\n",
    "colors = ['blue', 'red', 'yellow', 'purple', 'green']\n",
    "counter=0\n",
    "for key in results.keys():\n",
    "    if results[key][1] is None:\n",
    "        continue\n",
    "    else:\n",
    "        hull = results[key][1]\n",
    "        points = results[key][2]\n",
    "        for simplex in hull.simplices:\n",
    "            labelstr = 'R: %.1e' % (key)\n",
    "            plt.plot(points[simplex, 0], points[simplex, 1], c=colors[counter], label=labelstr)\n",
    "    counter += 1\n",
    "plt.legend(loc='lower right')\n",
    "plt.grid(True)\n",
    "plt.xlabel('B-Field')\n",
    "plt.ylabel('delta')\n",
    "plt.plot()"
   ]
  },
  {
   "cell_type": "code",
   "execution_count": null,
   "metadata": {},
   "outputs": [],
   "source": [
    "radius = 1e10\n",
    "bfield = 0.9\n",
    "delta = 250.\n",
    "fig = plt.figure()\n",
    "ax = plt.gca()\n",
    "ax.plot(data[:, 0], data[:, 1], 's', marker='o', c='blue', alpha=1.)\n",
    "ax.plot(results[radius][0][(bfield, delta)][0],\n",
    "        results[radius][0][(bfield, delta)][1](results[radius][0][(bfield, delta)][0]),\n",
    "        c='red')\n",
    "plt.grid(True)\n",
    "plt.xlabel(r'$\\nu$')\n",
    "plt.ylabel(r'$\\nu f(\\nu)$')\n",
    "plt.title('TXS0506+056')\n",
    "plt.loglog()"
   ]
  },
  {
   "cell_type": "code",
   "execution_count": null,
   "metadata": {},
   "outputs": [],
   "source": []
  }
 ],
 "metadata": {
  "kernelspec": {
   "display_name": "Python 2",
   "language": "python",
   "name": "python2"
  },
  "language_info": {
   "codemirror_mode": {
    "name": "ipython",
    "version": 2
   },
   "file_extension": ".py",
   "mimetype": "text/x-python",
   "name": "python",
   "nbconvert_exporter": "python",
   "pygments_lexer": "ipython2",
   "version": "2.7.15"
  }
 },
 "nbformat": 4,
 "nbformat_minor": 2
}
